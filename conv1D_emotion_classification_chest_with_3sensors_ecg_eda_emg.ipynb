{
  "nbformat": 4,
  "nbformat_minor": 0,
  "metadata": {
    "colab": {
      "name": "conv1D emotion classification chest with 3sensors ecg_eda_emg",
      "provenance": []
    },
    "kernelspec": {
      "name": "python3",
      "display_name": "Python 3"
    },
    "accelerator": "GPU"
  },
  "cells": [
    {
      "cell_type": "code",
      "metadata": {
        "id": "zv8gw6sd3sO8",
        "colab_type": "code",
        "colab": {}
      },
      "source": [
        "from google.colab import drive\n",
        "drive.mount('/content/drive/')"
      ],
      "execution_count": null,
      "outputs": []
    },
    {
      "cell_type": "code",
      "metadata": {
        "id": "XtoNqNUluTE3",
        "colab_type": "code",
        "colab": {}
      },
      "source": [
        "import pickle\n",
        "import gc\n",
        "from sklearn.preprocessing import FunctionTransformer, StandardScaler\n",
        "from sklearn.model_selection import train_test_split\n",
        "\n",
        "import numpy as np\n",
        "import pandas as pd\n",
        "from keras.models import Model\n",
        "from keras.layers import Input, Dense, Flatten, Concatenate, concatenate\n",
        "from keras.layers import Dense, Activation, Conv1D, MaxPooling1D\n",
        "from keras import optimizers\n",
        "from keras.optimizers import Adam\n",
        "import keras\n",
        "from keras.models import Sequential\n",
        "from sklearn.model_selection import KFold\n",
        "from keras.utils import np_utils\n",
        "from sklearn.metrics import f1_score"
      ],
      "execution_count": null,
      "outputs": []
    },
    {
      "cell_type": "code",
      "metadata": {
        "id": "QVxIUS5PxsLM",
        "colab_type": "code",
        "colab": {}
      },
      "source": [
        "DataPath = '/content/drive/My Drive/apps/stress detection/data/chest'"
      ],
      "execution_count": 3,
      "outputs": []
    },
    {
      "cell_type": "code",
      "metadata": {
        "id": "qzcnnM4UXm6I",
        "colab_type": "code",
        "colab": {}
      },
      "source": [
        "#!ls '/content/drive/My Drive/apps/stress detection/data/chest'"
      ],
      "execution_count": null,
      "outputs": []
    },
    {
      "cell_type": "code",
      "metadata": {
        "id": "8UiNFSbqwMgf",
        "colab_type": "code",
        "colab": {}
      },
      "source": [
        "# specify file names\n",
        "fileName_target = DataPath + '/' + 'data_chest_groundTruth_3classes_emotion_5secWindow.pkl'\n",
        "fileName_ECG  = DataPath + '/' + 'data_chest_ECG_5secWindow,pkl'\n",
        "fileName_EDA  = DataPath + '/' + 'data_chest_EDA_5secWindow,pkl'\n",
        "fileName_EMG  = DataPath + '/' + 'data_chest_EMG_5secWindow,pkl'\n"
      ],
      "execution_count": 4,
      "outputs": []
    },
    {
      "cell_type": "code",
      "metadata": {
        "id": "m9N2d4H8wMve",
        "colab_type": "code",
        "colab": {}
      },
      "source": [
        "# read data files\n",
        "with open(fileName_target, 'rb') as f:\n",
        "   data_targets = pickle.load(f)\n",
        "with open(fileName_EDA,'rb') as f:\n",
        "   data_EDA = pickle.load(f)\n",
        "with open(fileName_ECG,'rb') as f:\n",
        "   data_ECG = pickle.load(f)\n",
        "with open(fileName_EMG,'rb') as f:\n",
        "   data_EMG = pickle.load(f)"
      ],
      "execution_count": 5,
      "outputs": []
    },
    {
      "cell_type": "code",
      "metadata": {
        "id": "bPD0bSL2lldP",
        "colab_type": "code",
        "colab": {}
      },
      "source": [
        "data_y = np_utils.to_categorical(data_targets)"
      ],
      "execution_count": 6,
      "outputs": []
    },
    {
      "cell_type": "code",
      "metadata": {
        "id": "iRV9j3qolnmb",
        "colab_type": "code",
        "colab": {}
      },
      "source": [
        "print ('data_y shape:', data_y.shape)"
      ],
      "execution_count": null,
      "outputs": []
    },
    {
      "cell_type": "code",
      "metadata": {
        "id": "Op_MCnbFX6Pq",
        "colab_type": "code",
        "colab": {}
      },
      "source": [
        "print ('data_targets shape:', data_targets.shape)\n",
        "print ('data_EDA shape:', data_EDA.shape)\n",
        "print ('data_ECG shape:', data_ECG.shape)\n",
        "print ('data_EMG shape:', data_EMG.shape)"
      ],
      "execution_count": null,
      "outputs": []
    },
    {
      "cell_type": "code",
      "metadata": {
        "id": "-KNkCQfpYBo3",
        "colab_type": "code",
        "colab": {}
      },
      "source": [
        "data = np.concatenate([data_ECG, data_EDA, data_EMG], axis=1)\n",
        "print ('data shape:', data.shape)\n",
        "del data_EDA, data_ECG, data_EMG\n",
        "gc.collect()"
      ],
      "execution_count": null,
      "outputs": []
    },
    {
      "cell_type": "code",
      "metadata": {
        "id": "vQ8_pAKwYLUZ",
        "colab_type": "code",
        "colab": {}
      },
      "source": [
        "scaler = StandardScaler()\n",
        "data_scaled = scaler.fit_transform(data)\n",
        "print ('data_scaled shape:', data_scaled.shape)\n",
        "del data\n",
        "gc.collect()"
      ],
      "execution_count": null,
      "outputs": []
    },
    {
      "cell_type": "code",
      "metadata": {
        "id": "tmGM_XfiYUk8",
        "colab_type": "code",
        "colab": {}
      },
      "source": [
        "X_train, X_test, y_train, y_test = train_test_split(data_scaled, data_y, test_size=0.30, random_state=42)\n",
        "print (\"X_train size:\", X_train.shape, \"Y_train size\", len(y_train))\n",
        "print (\"X_test size:\", X_test.shape, \"Y_test size\", len(y_test))"
      ],
      "execution_count": null,
      "outputs": []
    },
    {
      "cell_type": "code",
      "metadata": {
        "id": "TLUt7wt5YcDT",
        "colab_type": "code",
        "colab": {}
      },
      "source": [
        "wsize = 3500\n",
        "x_tr_1 = np.expand_dims(X_train[:,0*wsize:1*wsize], axis=2)\n",
        "x_tr_2 = np.expand_dims(X_train[:,1*wsize:2*wsize], axis=2)\n",
        "x_tr_3 = np.expand_dims(X_train[:,2*wsize:3*wsize], axis=2)\n",
        "\n",
        "x_tst_1 = np.expand_dims(X_test[:,0*wsize:1*wsize], axis=2)\n",
        "x_tst_2 = np.expand_dims(X_test[:,1*wsize:2*wsize], axis=2)\n",
        "x_tst_3 = np.expand_dims(X_test[:,2*wsize:3*wsize], axis=2)"
      ],
      "execution_count": 16,
      "outputs": []
    },
    {
      "cell_type": "code",
      "metadata": {
        "id": "mFJyCO6BIOGa",
        "colab_type": "code",
        "colab": {}
      },
      "source": [
        "def model_3classes_3sensors_5secWindow_conv1d8x15Strd2MP4x4_conv1d16x7Strd2MP4x4_conv1d32x3Strd1MP2x2_dense32_dense16_dense3():\n",
        "\n",
        "   inputs_1 = Input(shape=(3500,1))\n",
        "   inputs_2 = Input(shape=(3500,1))\n",
        "   inputs_3 = Input(shape=(3500,1))\n",
        "\n",
        "   x1 = Conv1D(8, 15, strides=2, padding='same',activation='relu')(inputs_1)\n",
        "   x2 = Conv1D(8, 15, strides=2, padding='same',activation='relu')(inputs_2)\n",
        "   x3 = Conv1D(8, 15, strides=2, padding='same',activation='relu')(inputs_3)\n",
        "\n",
        "   x1 = MaxPooling1D(4 ,4)(x1)\n",
        "   x2 = MaxPooling1D(4 ,4)(x2)\n",
        "   x3 = MaxPooling1D(4 ,4)(x3)\n",
        "\n",
        "   x1 = Conv1D(16, 7, strides=2, padding='same',activation='relu')(x1)\n",
        "   x2 = Conv1D(16, 7, strides=2, padding='same',activation='relu')(x2)\n",
        "   x3 = Conv1D(16, 7, strides=2, padding='same',activation='relu')(x3)\n",
        "\n",
        "   x1 = MaxPooling1D(4 ,4)(x1)\n",
        "   x2 = MaxPooling1D(4 ,4)(x2)\n",
        "   x3 = MaxPooling1D(4 ,4)(x3)\n",
        "\n",
        "   x1 = Conv1D(32, 3, strides=1, padding='same',activation='relu')(x1)\n",
        "   x2 = Conv1D(32, 3, strides=1, padding='same',activation='relu')(x2)\n",
        "   x3 = Conv1D(32, 3, strides=1, padding='same',activation='relu')(x3)\n",
        "\n",
        "   x1 = MaxPooling1D(2 ,2)(x1)\n",
        "   x2 = MaxPooling1D(2 ,2)(x2)\n",
        "   x3 = MaxPooling1D(2 ,2)(x3)\n",
        "\n",
        "   y = concatenate([x1,x2,x3])\n",
        "   y = Flatten()(y)\n",
        "   y = Dense(32, activation='relu')(y)\n",
        "   y = Dense(16, activation='relu')(y)\n",
        "\n",
        "   out = Dense(3, activation = 'softmax')(y)\n",
        "\n",
        "   model = Model([inputs_1, inputs_2, inputs_3], out)\n",
        "   return model"
      ],
      "execution_count": 17,
      "outputs": []
    },
    {
      "cell_type": "code",
      "metadata": {
        "id": "wVy44b8QLGVv",
        "colab_type": "code",
        "colab": {}
      },
      "source": [
        "# 10 fold\n",
        "seed = 7\n",
        "np.random.seed(seed)\n",
        "\n",
        "n_folds = 10\n",
        "kfold = KFold(n_folds, True, 1)\n",
        "k = 0\n",
        "y_test_pred=np.zeros(y_test.shape)\n",
        "fold = 0\n",
        "models = []\n",
        "models_acc = []\n",
        "\n",
        "y_preds_valid=[]\n",
        "y_trues_valid=[]\n",
        "for train_ix, test_ix in kfold.split(x_tr_1):\n",
        "   model_name = 'model'+str(k)\n",
        "   model_name = model_3classes_3sensors_5secWindow_conv1d8x15Strd2MP4x4_conv1d16x7Strd2MP4x4_conv1d32x3Strd1MP2x2_dense32_dense16_dense3()\n",
        "   model_name.compile(optimizer = Adam(lr=0.001, clipnorm=1.), loss=\"categorical_crossentropy\", metrics=['accuracy'])\n",
        "   models.append( model_name )\n",
        "\n",
        "   print (\"train model\", k)\n",
        "   k = k+1\n",
        "   Xfold_train = [x_tr_1[train_ix,:], x_tr_2[train_ix,:], x_tr_3[train_ix,:]  ]\n",
        "   Yfold_train = y_train[train_ix]\n",
        "   Xfold_valid = [x_tr_1[test_ix,:],  x_tr_2[test_ix,:],  x_tr_3[test_ix,:] ]\n",
        "   Yfold_valid = y_train[test_ix]\n",
        "   history = model_name.fit(Xfold_train, Yfold_train, epochs=50, batch_size=40, validation_data=(Xfold_valid, Yfold_valid))\n",
        "\n",
        "   # accumulate predictions for validation and test\n",
        "   y_test_pred += model_name.predict([x_tst_1, x_tst_2, x_tst_3,])\n",
        "\n",
        "   y_preds_valid.append( model_name.predict( Xfold_valid ) )\n",
        "   y_trues_valid.append( Yfold_valid )\n",
        "\n",
        "y_test_pred /= n_folds"
      ],
      "execution_count": null,
      "outputs": []
    },
    {
      "cell_type": "code",
      "metadata": {
        "id": "4niFRHcwsh18",
        "colab_type": "code",
        "colab": {}
      },
      "source": [
        "def decision_3classes(prob):\n",
        "  return np.argmax(prob,axis=1)\n",
        "\n",
        "def accuracy_3classes(y_d, y_e):\n",
        "  numErr=0\n",
        "  for k in range(len(y_d)):\n",
        "    if y_d[k]!=y_e[k]:\n",
        "      numErr+=1\n",
        "  return 1.0 - numErr/len(y_d)"
      ],
      "execution_count": 20,
      "outputs": []
    },
    {
      "cell_type": "code",
      "metadata": {
        "id": "ZZHLKp61stgl",
        "colab_type": "code",
        "colab": {}
      },
      "source": [
        "y_test_dec = decision_3classes(y_test)\n",
        "y_pred_dec = decision_3classes(y_test_pred)\n",
        "y_test_accuracy = accuracy_3classes(y_test_dec, y_pred_dec)\n",
        "print (\"accuracy_test:\", y_test_accuracy)"
      ],
      "execution_count": null,
      "outputs": []
    },
    {
      "cell_type": "code",
      "metadata": {
        "id": "-bcfGL_jBvl8",
        "colab_type": "code",
        "colab": {}
      },
      "source": [
        "f1_score(y_test_dec, y_pred_dec, average='macro')"
      ],
      "execution_count": null,
      "outputs": []
    },
    {
      "cell_type": "code",
      "metadata": {
        "id": "wr2j7_zUs3YH",
        "colab_type": "code",
        "colab": {}
      },
      "source": [
        ""
      ],
      "execution_count": null,
      "outputs": []
    }
  ]
}