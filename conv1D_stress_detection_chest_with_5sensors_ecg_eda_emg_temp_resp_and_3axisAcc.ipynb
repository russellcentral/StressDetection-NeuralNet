{
  "nbformat": 4,
  "nbformat_minor": 0,
  "metadata": {
    "colab": {
      "name": "conv1D stress detection chest with 5sensors ecg_eda_emg_temp_resp_and_3axisAcc",
      "provenance": []
    },
    "kernelspec": {
      "name": "python3",
      "display_name": "Python 3"
    },
    "accelerator": "GPU"
  },
  "cells": [
    {
      "cell_type": "code",
      "metadata": {
        "id": "zv8gw6sd3sO8",
        "colab_type": "code",
        "colab": {}
      },
      "source": [
        "from google.colab import drive\n",
        "drive.mount('/content/drive/')"
      ],
      "execution_count": null,
      "outputs": []
    },
    {
      "cell_type": "code",
      "metadata": {
        "id": "XtoNqNUluTE3",
        "colab_type": "code",
        "colab": {}
      },
      "source": [
        "import pickle\n",
        "import gc\n",
        "from sklearn.preprocessing import FunctionTransformer, StandardScaler\n",
        "from sklearn.model_selection import train_test_split\n",
        "\n",
        "import numpy as np\n",
        "import pandas as pd\n",
        "from keras.models import Model\n",
        "from keras.layers import Input, Dense, Flatten, Concatenate, concatenate\n",
        "from keras.layers import Dense, Activation, Conv1D, MaxPooling1D\n",
        "from keras import optimizers\n",
        "from keras.optimizers import Adam\n",
        "import keras\n",
        "from keras.models import Sequential\n",
        "from sklearn.model_selection import KFold\n",
        "from sklearn.metrics import f1_score\n",
        "\n",
        "from sklearn.metrics import roc_curve\n",
        "from matplotlib import pyplot\n",
        "\n",
        "#from keras.layers import Dense, InputLayer, Dropout, Flatten, BatchNormalization, Conv1D"
      ],
      "execution_count": null,
      "outputs": []
    },
    {
      "cell_type": "code",
      "metadata": {
        "id": "gw_cISylEgGv",
        "colab_type": "code",
        "colab": {}
      },
      "source": [
        "DataPath = '/content/drive/My Drive/apps/stress detection/data/chest'"
      ],
      "execution_count": null,
      "outputs": []
    },
    {
      "cell_type": "code",
      "metadata": {
        "id": "qzcnnM4UXm6I",
        "colab_type": "code",
        "colab": {}
      },
      "source": [
        "!ls '/content/drive/My Drive/apps/stress detection/data/chest'"
      ],
      "execution_count": null,
      "outputs": []
    },
    {
      "cell_type": "code",
      "metadata": {
        "id": "X2hXu44-FKcG",
        "colab_type": "code",
        "colab": {}
      },
      "source": [
        "# specify file names\n",
        "fileName_target = DataPath + '/' + 'data_chest_groundTruth_2classes_stress_5secWindow.pkl'\n",
        "fileName_xACC = DataPath + '/' + 'data_chest_xACC_5secWindow,pkl'\n",
        "fileName_yACC = DataPath + '/' + 'data_chest_yACC_5secWindow,pkl'\n",
        "fileName_zACC = DataPath + '/' + 'data_chest_zACC_5secWindow,pkl'\n",
        "fileName_ECG  = DataPath + '/' + 'data_chest_ECG_5secWindow,pkl'\n",
        "fileName_EDA  = DataPath + '/' + 'data_chest_EDA_5secWindow,pkl'\n",
        "fileName_EMG  = DataPath + '/' + 'data_chest_EMG_5secWindow,pkl'\n",
        "fileName_Temp = DataPath + '/' + 'data_chest_Temp_5secWindow,pkl'\n",
        "fileName_Resp = DataPath + '/' + 'data_chest_Resp_5secWindow,pkl'"
      ],
      "execution_count": null,
      "outputs": []
    },
    {
      "cell_type": "code",
      "metadata": {
        "id": "dVOh4Hj5FQnB",
        "colab_type": "code",
        "colab": {}
      },
      "source": [
        "# read data files\n",
        "with open(fileName_target, 'rb') as f:\n",
        "   data_targets = pickle.load(f)\n",
        "with open(fileName_EDA,'rb') as f:\n",
        "   data_EDA = pickle.load(f)\n",
        "with open(fileName_ECG,'rb') as f:\n",
        "   data_ECG = pickle.load(f)\n",
        "with open(fileName_EMG,'rb') as f:\n",
        "   data_EMG = pickle.load(f)\n",
        "with open(fileName_Resp,'rb') as f:\n",
        "   data_Resp = pickle.load(f)\n",
        "with open(fileName_Temp,'rb') as f:\n",
        "   data_Temp = pickle.load(f)\n",
        "with open(fileName_xACC,'rb') as f:\n",
        "   data_xACC = pickle.load(f)\n",
        "with open(fileName_yACC,'rb') as f:\n",
        "   data_yACC = pickle.load(f)\n",
        "with open(fileName_zACC,'rb') as f:\n",
        "   data_zACC = pickle.load(f)\n"
      ],
      "execution_count": null,
      "outputs": []
    },
    {
      "cell_type": "code",
      "metadata": {
        "id": "Op_MCnbFX6Pq",
        "colab_type": "code",
        "colab": {}
      },
      "source": [
        "print ('data_targets shape:', data_targets.shape)\n",
        "print ('data_EDA shape:', data_EDA.shape)\n",
        "print ('data_ECG shape:', data_ECG.shape)\n",
        "print ('data_EMG shape:', data_EMG.shape)\n",
        "print ('data_Resp shape:', data_Resp.shape)\n",
        "print ('data_Temp shape:', data_Temp.shape)\n",
        "print ('data_ACC_x shape:', data_xACC.shape)\n",
        "print ('data_ACC_y shape:', data_yACC.shape)\n",
        "print ('data_ACC_z shape:', data_zACC.shape)"
      ],
      "execution_count": null,
      "outputs": []
    },
    {
      "cell_type": "code",
      "metadata": {
        "id": "-KNkCQfpYBo3",
        "colab_type": "code",
        "colab": {}
      },
      "source": [
        "data = np.concatenate([data_ECG, data_EDA, data_EMG, data_Resp, data_Temp, data_xACC, data_yACC, data_zACC], axis=1)\n",
        "print ('data shape:', data.shape)\n",
        "del data_EDA, data_ECG, data_EMG, data_Resp, data_Temp\n",
        "del data_xACC, data_yACC, data_zACC\n",
        "gc.collect()"
      ],
      "execution_count": null,
      "outputs": []
    },
    {
      "cell_type": "code",
      "metadata": {
        "id": "vQ8_pAKwYLUZ",
        "colab_type": "code",
        "colab": {}
      },
      "source": [
        "scaler = StandardScaler()\n",
        "data_scaled = scaler.fit_transform(data)\n",
        "print ('data_scaled shape:', data_scaled.shape)\n",
        "del data\n",
        "gc.collect()"
      ],
      "execution_count": null,
      "outputs": []
    },
    {
      "cell_type": "code",
      "metadata": {
        "id": "tmGM_XfiYUk8",
        "colab_type": "code",
        "colab": {}
      },
      "source": [
        "X_train, X_test, y_train, y_test = train_test_split(data_scaled, data_targets, test_size=0.30, random_state=42)\n",
        "print (\"X_train size:\", X_train.shape, \"Y_train size\", len(y_train))\n",
        "print (\"X_test size:\", X_test.shape, \"Y_test size\", len(y_test))"
      ],
      "execution_count": null,
      "outputs": []
    },
    {
      "cell_type": "code",
      "metadata": {
        "id": "TLUt7wt5YcDT",
        "colab_type": "code",
        "colab": {}
      },
      "source": [
        "wsize = 3500\n",
        "x_tr_1 = np.expand_dims(X_train[:,0*wsize:1*wsize], axis=2)\n",
        "x_tr_2 = np.expand_dims(X_train[:,1*wsize:2*wsize], axis=2)\n",
        "x_tr_3 = np.expand_dims(X_train[:,2*wsize:3*wsize], axis=2)\n",
        "x_tr_4 = np.expand_dims(X_train[:,3*wsize:4*wsize], axis=2)\n",
        "x_tr_5 = np.expand_dims(X_train[:,4*wsize:5*wsize], axis=2)\n",
        "x_tr_6 = np.expand_dims(X_train[:,5*wsize:6*wsize], axis=2)\n",
        "x_tr_7 = np.expand_dims(X_train[:,6*wsize:7*wsize], axis=2)\n",
        "x_tr_8 = np.expand_dims(X_train[:,7*wsize:8*wsize], axis=2)\n",
        "\n",
        "x_tst_1 = np.expand_dims(X_test[:,0*wsize:1*wsize], axis=2)\n",
        "x_tst_2 = np.expand_dims(X_test[:,1*wsize:2*wsize], axis=2)\n",
        "x_tst_3 = np.expand_dims(X_test[:,2*wsize:3*wsize], axis=2)\n",
        "x_tst_4 = np.expand_dims(X_test[:,3*wsize:4*wsize], axis=2)\n",
        "x_tst_5 = np.expand_dims(X_test[:,4*wsize:5*wsize], axis=2)\n",
        "x_tst_6 = np.expand_dims(X_test[:,5*wsize:6*wsize], axis=2)\n",
        "x_tst_7 = np.expand_dims(X_test[:,6*wsize:7*wsize], axis=2)\n",
        "x_tst_8 = np.expand_dims(X_test[:,7*wsize:8*wsize], axis=2)"
      ],
      "execution_count": null,
      "outputs": []
    },
    {
      "cell_type": "code",
      "metadata": {
        "id": "67HLv99P1Yuo",
        "colab_type": "code",
        "colab": {}
      },
      "source": [
        "def binary_decision(prob):\n",
        "  dec=[]\n",
        "  for k in range(len(prob)):\n",
        "    if prob[k]>=.5:\n",
        "      d = 1\n",
        "    else:\n",
        "      d = 0\n",
        "    dec.append(d)\n",
        "  return dec\n",
        "\n",
        "def accuracy(y_d, y_e):\n",
        "  numErr=0\n",
        "  for k in range(len(y_d)):\n",
        "    if y_d[k]!=y_e[k]:\n",
        "      numErr+=1\n",
        "  return 1.0 - numErr/len(y_d)"
      ],
      "execution_count": null,
      "outputs": []
    },
    {
      "cell_type": "code",
      "metadata": {
        "id": "aSsyluQB7kbY",
        "colab_type": "code",
        "colab": {}
      },
      "source": [
        "def model_2classes_5sensors_and_xyzAcc_5secWindow_Conv1D8x15Strd2MP4x4_Conv1D16x7Strd2MP4x4_Conv1D32x3Strd1MP2x2_Dense32_Dense16_Dense1():\n",
        "\n",
        "   inputs_1 = Input(shape=(3500,1))\n",
        "   inputs_2 = Input(shape=(3500,1))\n",
        "   inputs_3 = Input(shape=(3500,1))\n",
        "   inputs_4 = Input(shape=(3500,1))\n",
        "   inputs_5 = Input(shape=(3500,1))\n",
        "   inputs_6 = Input(shape=(3500,1))\n",
        "   inputs_7 = Input(shape=(3500,1))\n",
        "   inputs_8 = Input(shape=(3500,1))\n",
        "\n",
        "   x1 = Conv1D(8, 15, strides=2, padding='same',activation='relu')(inputs_1)\n",
        "   x2 = Conv1D(8, 15, strides=2, padding='same',activation='relu')(inputs_2)\n",
        "   x3 = Conv1D(8, 15, strides=2, padding='same',activation='relu')(inputs_3)\n",
        "   x4 = Conv1D(8, 15, strides=2, padding='same',activation='relu')(inputs_4)\n",
        "   x5 = Conv1D(8, 15, strides=2, padding='same',activation='relu')(inputs_5)\n",
        "   x6 = Conv1D(8, 15, strides=2, padding='same',activation='relu')(inputs_6)\n",
        "   x7 = Conv1D(8, 15, strides=2, padding='same',activation='relu')(inputs_7)\n",
        "   x8 = Conv1D(8, 15, strides=2, padding='same',activation='relu')(inputs_8)\n",
        "\n",
        "   x1 = MaxPooling1D(4 ,4)(x1)\n",
        "   x2 = MaxPooling1D(4 ,4)(x2)\n",
        "   x3 = MaxPooling1D(4 ,4)(x3)\n",
        "   x4 = MaxPooling1D(4 ,4)(x4)\n",
        "   x5 = MaxPooling1D(4 ,4)(x5)\n",
        "   x6 = MaxPooling1D(4 ,4)(x6)\n",
        "   x7 = MaxPooling1D(4 ,4)(x7)\n",
        "   x8 = MaxPooling1D(4 ,4)(x8)\n",
        "\n",
        "   x1 = Conv1D(16, 7, strides=2, padding='same',activation='relu')(x1)\n",
        "   x2 = Conv1D(16, 7, strides=2, padding='same',activation='relu')(x2)\n",
        "   x3 = Conv1D(16, 7, strides=2, padding='same',activation='relu')(x3)\n",
        "   x4 = Conv1D(16, 7, strides=2, padding='same',activation='relu')(x4)\n",
        "   x5 = Conv1D(16, 7, strides=2, padding='same',activation='relu')(x5)\n",
        "   x6 = Conv1D(16, 7, strides=2, padding='same',activation='relu')(x6)\n",
        "   x7 = Conv1D(16, 7, strides=2, padding='same',activation='relu')(x7)\n",
        "   x8 = Conv1D(16, 7, strides=2, padding='same',activation='relu')(x8)\n",
        "\n",
        "   x1 = MaxPooling1D(4 ,4)(x1)\n",
        "   x2 = MaxPooling1D(4 ,4)(x2)\n",
        "   x3 = MaxPooling1D(4 ,4)(x3)\n",
        "   x4 = MaxPooling1D(4 ,4)(x4)\n",
        "   x5 = MaxPooling1D(4 ,4)(x5)\n",
        "   x6 = MaxPooling1D(4 ,4)(x6)\n",
        "   x7 = MaxPooling1D(4 ,4)(x7)\n",
        "   x8 = MaxPooling1D(4 ,4)(x8)\n",
        "\n",
        "   x1 = Conv1D(32, 3, strides=1, padding='same',activation='relu')(x1)\n",
        "   x2 = Conv1D(32, 3, strides=1, padding='same',activation='relu')(x2)\n",
        "   x3 = Conv1D(32, 3, strides=1, padding='same',activation='relu')(x3)\n",
        "   x4 = Conv1D(32, 3, strides=1, padding='same',activation='relu')(x4)\n",
        "   x5 = Conv1D(32, 3, strides=1, padding='same',activation='relu')(x5)\n",
        "   x6 = Conv1D(32, 3, strides=1, padding='same',activation='relu')(x6)\n",
        "   x7 = Conv1D(32, 3, strides=1, padding='same',activation='relu')(x7)\n",
        "   x8 = Conv1D(32, 3, strides=1, padding='same',activation='relu')(x8)\n",
        "\n",
        "   x1 = MaxPooling1D(2 ,2)(x1)\n",
        "   x2 = MaxPooling1D(2 ,2)(x2)\n",
        "   x3 = MaxPooling1D(2 ,2)(x3)\n",
        "   x4 = MaxPooling1D(2 ,2)(x4)\n",
        "   x5 = MaxPooling1D(2 ,2)(x5)\n",
        "   x6 = MaxPooling1D(2 ,2)(x6)\n",
        "   x7 = MaxPooling1D(2 ,2)(x7)\n",
        "   x8 = MaxPooling1D(2 ,2)(x8)\n",
        "\n",
        "   y = concatenate([x1,x2,x3,x4,x5,x6,x7,x8])\n",
        "   y = Flatten()(y)\n",
        "   y = Dense(32, activation='relu')(y)\n",
        "   y = Dense(16, activation='relu')(y)\n",
        "\n",
        "   out = Dense(1, activation = 'sigmoid')(y)\n",
        "\n",
        "   model = Model([inputs_1, inputs_2, inputs_3, inputs_4, inputs_5, inputs_6, inputs_7, inputs_8], out)\n",
        "   return model"
      ],
      "execution_count": null,
      "outputs": []
    },
    {
      "cell_type": "code",
      "metadata": {
        "id": "wVy44b8QLGVv",
        "colab_type": "code",
        "colab": {}
      },
      "source": [
        "# fix random seed for reproducibility\n",
        "seed = 7\n",
        "np.random.seed(seed)\n",
        "\n",
        "n_folds = 10\n",
        "kfold = KFold(n_folds, True, 1)\n",
        "k = 0\n",
        "y_valid_pred=np.zeros(y_train.shape)\n",
        "y_test_pred=np.zeros(y_test.shape)\n",
        "fold = 0\n",
        "models = []\n",
        "models_acc = []\n",
        "\n",
        "for train_ix, test_ix in kfold.split(x_tr_1):\n",
        "   model_name = 'model'+str(k)\n",
        "   model_name = model_2classes_5sensors_and_xyzAcc_5secWindow_Conv1D8x15Strd2MP4x4_Conv1D16x7Strd2MP4x4_Conv1D32x3Strd1MP2x2_Dense32_Dense16_Dense1()\n",
        "   model_name.compile(optimizer = Adam(lr=0.001, clipnorm=1.), loss=\"binary_crossentropy\", metrics=['accuracy'])\n",
        "   models.append( model_name )\n",
        "\n",
        "   print (\"train model\", k)\n",
        "   k = k+1\n",
        "   Xfold_train = [x_tr_1[train_ix,:], x_tr_2[train_ix,:], x_tr_3[train_ix,:], x_tr_4[train_ix,:], x_tr_5[train_ix,:], x_tr_6[train_ix,:], x_tr_7[train_ix,:], x_tr_8[train_ix,:]]\n",
        "   Yfold_train = y_train[train_ix]\n",
        "   Xfold_valid = [x_tr_1[test_ix,:],  x_tr_2[test_ix,:],  x_tr_3[test_ix,:],  x_tr_4[test_ix,:], x_tr_5[test_ix,:], x_tr_6[test_ix,:], x_tr_7[test_ix,:], x_tr_8[test_ix,:] ]\n",
        "   Yfold_valid = y_train[test_ix]\n",
        "   history = model_name.fit(Xfold_train, Yfold_train, epochs=50, batch_size=40, validation_data=(Xfold_valid, Yfold_valid))\n",
        "\n",
        "   # accumulate predictions for validation and test\n",
        "   y_valid_pred[test_ix] = model_name.predict(Xfold_valid)\n",
        "   y_test_pred += model_name.predict([x_tst_1, x_tst_2, x_tst_3, x_tst_4, x_tst_5, x_tst_6, x_tst_7, x_tst_8])\n",
        "\n",
        "y_test_pred /= n_folds"
      ],
      "execution_count": null,
      "outputs": []
    },
    {
      "cell_type": "code",
      "metadata": {
        "id": "hrUxEr8OXwMi",
        "colab_type": "code",
        "colab": {}
      },
      "source": [
        "# calculate accuracy\n",
        "y_pred_dec = binary_decision(y_test_pred)\n",
        "y_test_accuracy = accuracy(y_test, y_pred_dec)\n",
        "print (\"accuracy_test:\", y_test_accuracy)"
      ],
      "execution_count": null,
      "outputs": []
    },
    {
      "cell_type": "code",
      "metadata": {
        "id": "6_3JFRneXwXT",
        "colab_type": "code",
        "colab": {}
      },
      "source": [
        "# calculate F1 score\n",
        "y_test_dec = y_test\n",
        "print('f1 score:', f1_score(y_test_dec, y_pred_dec) )"
      ],
      "execution_count": null,
      "outputs": []
    },
    {
      "cell_type": "code",
      "metadata": {
        "id": "ceOnvFcjYyIG",
        "colab_type": "code",
        "colab": {
          "base_uri": "https://localhost:8080/",
          "height": 279
        },
        "outputId": "547dffd5-d86d-47e4-a4c0-bd56cc8945c1"
      },
      "source": [
        "# plot no skill roc curve\n",
        "pyplot.plot([0, 1], [0, 1], linestyle='--', label='No Skill')\n",
        "# calculate roc curve for model\n",
        "fpr, tpr, _ = roc_curve(y_test, y_test_pred)\n",
        "# plot model roc curve\n",
        "pyplot.plot(fpr, tpr, marker='.', label='1D Convolutional Neural Network')\n",
        "# axis labelsona\n",
        "pyplot.xlabel('False Positive Rate')\n",
        "pyplot.ylabel('True Positive Rate')\n",
        "# show the legend\n",
        "pyplot.legend()\n",
        "# show the plot\n",
        "pyplot.show()"
      ],
      "execution_count": null,
      "outputs": [
        {
          "output_type": "display_data",
          "data": {
            "image/png": "[encoded data removed]",
            "text/plain": [
              "<Figure size 432x288 with 1 Axes>"
            ]
          },
          "metadata": {
            "tags": [],
            "needs_background": "light"
          }
        }
      ]
    },
    {
      "cell_type": "code",
      "metadata": {
        "id": "b-dskAwun8FY",
        "colab_type": "code",
        "colab": {}
      },
      "source": [
        "#results = [y_preds_valid, y_trues_valid]"
      ],
      "execution_count": null,
      "outputs": []
    },
    {
      "cell_type": "code",
      "metadata": {
        "id": "tO0cosS6LK73",
        "colab_type": "code",
        "colab": {}
      },
      "source": [
        "#with open('/content/drive/My Drive/apps/stress detection/Results/results_chest_stress_5sensors_and_3axisACC.pkl','wb') as f:\n",
        "#      pickle.dump(results, f )"
      ],
      "execution_count": null,
      "outputs": []
    },
    {
      "cell_type": "code",
      "metadata": {
        "id": "6yTyEO1DZn9f",
        "colab_type": "code",
        "colab": {}
      },
      "source": [
        ""
      ],
      "execution_count": null,
      "outputs": []
    }
  ]
}