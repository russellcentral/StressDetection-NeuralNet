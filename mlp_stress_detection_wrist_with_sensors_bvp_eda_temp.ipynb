{
  "nbformat": 4,
  "nbformat_minor": 0,
  "metadata": {
    "colab": {
      "name": "mlp stress detection wrist with sensors bvp_eda_temp.ipynb",
      "provenance": [],
      "collapsed_sections": []
    },
    "kernelspec": {
      "name": "python3",
      "display_name": "Python 3"
    },
    "accelerator": "GPU"
  },
  "cells": [
    {
      "cell_type": "code",
      "metadata": {
        "id": "zv8gw6sd3sO8",
        "colab_type": "code",
        "colab": {}
      },
      "source": [
        "from google.colab import drive\n",
        "drive.mount('/content/drive/')"
      ],
      "execution_count": null,
      "outputs": []
    },
    {
      "cell_type": "code",
      "metadata": {
        "id": "XtoNqNUluTE3",
        "colab_type": "code",
        "colab": {}
      },
      "source": [
        "import pickle\n",
        "import gc\n",
        "from sklearn.preprocessing import FunctionTransformer, StandardScaler\n",
        "from sklearn.model_selection import train_test_split\n",
        "from sklearn.model_selection import StratifiedKFold\n",
        "from sklearn.model_selection import KFold\n",
        "\n",
        "import numpy as np\n",
        "import pandas as pd\n",
        "from keras.models import Model\n",
        "from keras.layers import Input, Dense, Flatten, Concatenate, concatenate\n",
        "from keras.layers import Dense, Activation, Conv1D\n",
        "from keras import optimizers\n",
        "from keras.optimizers import Adam\n",
        "import keras\n",
        "from keras.models import Sequential\n",
        "from keras import regularizers\n",
        "\n",
        "from sklearn.metrics import f1_score\n",
        "\n",
        "from sklearn.metrics import roc_curve\n",
        "from matplotlib import pyplot\n",
        "import os"
      ],
      "execution_count": null,
      "outputs": []
    },
    {
      "cell_type": "code",
      "metadata": {
        "id": "9LH6hN-jps8-",
        "colab_type": "code",
        "colab": {}
      },
      "source": [
        "DataPath = '/content/drive/My Drive/apps/stress detection/data/wrist'"
      ],
      "execution_count": 3,
      "outputs": []
    },
    {
      "cell_type": "code",
      "metadata": {
        "id": "qzcnnM4UXm6I",
        "colab_type": "code",
        "colab": {}
      },
      "source": [
        "#!ls '/content/drive/My Drive/apps/stress detection/data/wrist'"
      ],
      "execution_count": null,
      "outputs": []
    },
    {
      "cell_type": "code",
      "metadata": {
        "id": "H6cKbwh59gv9",
        "colab_type": "code",
        "colab": {}
      },
      "source": [
        "# specify file names\n",
        "fileName_target = DataPath + '/' + 'data_wrist_groundTruth_2classes_stress_5secWindow.pkl'\n",
        "fileName_wrist_BVP = DataPath + '/' + 'data_wrist_BVP_5secWindow,pkl'\n",
        "fileName_wrist_EDA = DataPath + '/' + 'data_wrist_EDA_5secWindow,pkl'\n",
        "fileName_wrist_TEMP = DataPath + '/' + 'data_wrist_TEMP_5secWindow,pkl'"
      ],
      "execution_count": 4,
      "outputs": []
    },
    {
      "cell_type": "code",
      "metadata": {
        "id": "ful-eQ1IXnYq",
        "colab_type": "code",
        "colab": {}
      },
      "source": [
        "# read data\n",
        "with open(fileName_target, 'rb') as f:\n",
        "   data_targets = pickle.load(f)\n",
        "with open(fileName_wrist_BVP,'rb') as f:\n",
        "   data_wrist_BVP = pickle.load(f)\n",
        "with open(fileName_wrist_EDA,'rb') as f:\n",
        "   data_wrist_EDA = pickle.load(f)\n",
        "with open(fileName_wrist_TEMP,'rb') as f:\n",
        "   data_wrist_TEMP = pickle.load(f)\n"
      ],
      "execution_count": 5,
      "outputs": []
    },
    {
      "cell_type": "code",
      "metadata": {
        "id": "Op_MCnbFX6Pq",
        "colab_type": "code",
        "colab": {}
      },
      "source": [
        "print ('data_targets shape:', data_targets.shape)\n",
        "print ('data_wrist_EDA shape:', data_wrist_EDA.shape)\n",
        "print ('data_wrist BVP shape:', data_wrist_BVP.shape)\n",
        "print ('data_wrist TEMP shape:', data_wrist_TEMP.shape)"
      ],
      "execution_count": null,
      "outputs": []
    },
    {
      "cell_type": "code",
      "metadata": {
        "id": "-KNkCQfpYBo3",
        "colab_type": "code",
        "colab": {}
      },
      "source": [
        "data = np.concatenate([data_wrist_BVP, data_wrist_EDA, data_wrist_TEMP], axis=1)\n",
        "print ('data shape:', data.shape)\n",
        "del data_wrist_EDA, data_wrist_BVP, data_wrist_TEMP\n",
        "gc.collect()"
      ],
      "execution_count": null,
      "outputs": []
    },
    {
      "cell_type": "code",
      "metadata": {
        "id": "vQ8_pAKwYLUZ",
        "colab_type": "code",
        "colab": {}
      },
      "source": [
        "scaler = StandardScaler()\n",
        "data_scaled = scaler.fit_transform(data)\n",
        "print ('data_scaled shape:', data_scaled.shape)\n",
        "del data\n",
        "gc.collect()"
      ],
      "execution_count": null,
      "outputs": []
    },
    {
      "cell_type": "code",
      "metadata": {
        "id": "tmGM_XfiYUk8",
        "colab_type": "code",
        "colab": {}
      },
      "source": [
        "X_train, X_test, y_train, y_test = train_test_split(data_scaled, data_targets, test_size=0.30, random_state=42)\n",
        "print (\"X_train size:\", X_train.shape, \"Y_train size\", len(y_train))\n",
        "print (\"X_test size:\", X_test.shape, \"Y_test size\", len(y_test))"
      ],
      "execution_count": null,
      "outputs": []
    },
    {
      "cell_type": "code",
      "metadata": {
        "id": "OdqZQlY_xgGk",
        "colab_type": "code",
        "colab": {}
      },
      "source": [
        "wsize_bvp = 320\n",
        "wsize_eda = 20\n",
        "wsize_temp = 20\n",
        "wsize1 = wsize_bvp\n",
        "wsize2 = wsize_bvp + wsize_eda\n",
        "wsize3 = wsize_bvp + wsize_eda + wsize_temp"
      ],
      "execution_count": 10,
      "outputs": []
    },
    {
      "cell_type": "code",
      "metadata": {
        "id": "TLUt7wt5YcDT",
        "colab_type": "code",
        "colab": {}
      },
      "source": [
        "x_tr_1 = X_train[:,0:wsize1     ]\n",
        "x_tr_2 = X_train[:,wsize1:wsize2]\n",
        "x_tr_3 = X_train[:,wsize2:wsize3]\n",
        "\n",
        "x_tst_1 = X_test[:,0:wsize1     ]\n",
        "x_tst_2 = X_test[:,wsize1:wsize2]\n",
        "x_tst_3 = X_test[:,wsize2:wsize3]"
      ],
      "execution_count": 11,
      "outputs": []
    },
    {
      "cell_type": "code",
      "metadata": {
        "id": "BXveN9cYxrBU",
        "colab_type": "code",
        "colab": {}
      },
      "source": [
        "def binary_decision(prob):\n",
        "  dec=[]\n",
        "  for k in range(len(prob)):\n",
        "    if prob[k]>=.5:\n",
        "      d = 1\n",
        "    else:\n",
        "      d = 0\n",
        "    dec.append(d)\n",
        "  return dec\n",
        "\n",
        "def accuracy(y_d, y_e):\n",
        "  numErr=0\n",
        "  for k in range(len(y_d)):\n",
        "    if y_d[k]!=y_e[k]:\n",
        "      numErr+=1\n",
        "  return 1.0 - numErr/len(y_d)"
      ],
      "execution_count": 12,
      "outputs": []
    },
    {
      "cell_type": "code",
      "metadata": {
        "id": "54WbnACs7voi",
        "colab_type": "code",
        "colab": {}
      },
      "source": [
        "# mlp neural network model for stress detection using signals from sensors BVP, EDA, and TEMP\n",
        "def model_mlp_bvp_eda_temp():\n",
        "   inputs_1 = Input(shape=(wsize_bvp,))\n",
        "   inputs_2 = Input(shape=(wsize_eda,))\n",
        "   inputs_3 = Input(shape=(wsize_temp,))\n",
        "\n",
        "   x1 = Dense(64, kernel_regularizer=regularizers.l2(0.01), activation='relu')(inputs_1)\n",
        "   x1 = Dense(32, kernel_regularizer=regularizers.l2(0.01), activation='relu')(x1)\n",
        "   x = concatenate([x1, inputs_2, inputs_3])\n",
        "   x = Dense(32, kernel_regularizer=regularizers.l2(0.01), activation='relu')(x)\n",
        "   x = Dense(16, activation='relu')(x)\n",
        "   y = Dense(8, activation='relu')(x)\n",
        "   out = Dense(1, activation = 'sigmoid')(y)\n",
        "\n",
        "   model2r = Model([inputs_1, inputs_2, inputs_3], out)\n",
        "   return model2r\n"
      ],
      "execution_count": 13,
      "outputs": []
    },
    {
      "cell_type": "code",
      "metadata": {
        "id": "set21UEMFCR3",
        "colab_type": "code",
        "colab": {}
      },
      "source": [
        "# 10-fold\n",
        "seed = 7\n",
        "np.random.seed(seed)\n",
        "\n",
        "n_folds = 10\n",
        "kfold = KFold(n_folds, True, 1)\n",
        "\n",
        "y_test_pred=np.zeros(y_test.shape)\n",
        "\n",
        "y_preds_valid = []\n",
        "y_trues_valid = []\n",
        "\n",
        "k=0\n",
        "for train_ix, test_ix in kfold.split(x_tr_1):\n",
        "#  model = model_mlp_bvp_eda_temp_xyzAcc()\n",
        "   model = model_mlp_bvp_eda_temp()\n",
        "   model.compile(optimizer = Adam(lr=0.001, clipnorm=1.), loss=\"binary_crossentropy\", metrics=['accuracy'])\n",
        "    \n",
        "   print (\"train model\", k)\n",
        "   k = k+1\n",
        "   Xfold_train = [x_tr_1[train_ix,:], x_tr_2[train_ix,:], x_tr_3[train_ix,:] ]\n",
        "   Yfold_train = y_train[train_ix]\n",
        "   Xfold_valid =  [x_tr_1[test_ix,:],  x_tr_2[test_ix,:], x_tr_3[test_ix,:] ]\n",
        "   Yfold_valid = y_train[test_ix]\n",
        "   history = model.fit(Xfold_train, Yfold_train, epochs=50, batch_size=40, validation_data=(Xfold_valid, Yfold_valid))\n",
        "\n",
        "   # accumulate predictions for validation and test\n",
        "   y_test_pred += model.predict([x_tst_1, x_tst_2, x_tst_3])\n",
        "\n",
        "   y_preds_valid.append( model.predict( Xfold_valid ) )\n",
        "   y_trues_valid.append( Yfold_valid )\n",
        "\n",
        "y_test_pred = y_test_pred/n_folds"
      ],
      "execution_count": null,
      "outputs": []
    },
    {
      "cell_type": "code",
      "metadata": {
        "id": "Ay944ZvOFnAu",
        "colab_type": "code",
        "colab": {}
      },
      "source": [
        "print (y_test_pred.shape)"
      ],
      "execution_count": null,
      "outputs": []
    },
    {
      "cell_type": "code",
      "metadata": {
        "id": "_Gw1INWiB8N9",
        "colab_type": "code",
        "colab": {}
      },
      "source": [
        "# calculate accuracy\n",
        "y_pred_dec = binary_decision(y_test_pred)\n",
        "y_test_accuracy = accuracy(y_test, y_pred_dec)\n",
        "print (\"accuracy_test:\", y_test_accuracy)"
      ],
      "execution_count": null,
      "outputs": []
    },
    {
      "cell_type": "code",
      "metadata": {
        "id": "HpzlDTjCU-ZB",
        "colab_type": "code",
        "colab": {}
      },
      "source": [
        "# calculate F1 score\n",
        "y_test_dec = y_test\n",
        "print('f1 score:', f1_score(y_test_dec, y_pred_dec) )"
      ],
      "execution_count": null,
      "outputs": []
    },
    {
      "cell_type": "code",
      "metadata": {
        "id": "6OQwzmO5P7Zj",
        "colab_type": "code",
        "colab": {}
      },
      "source": [
        "# plot no skill roc curve\n",
        "pyplot.plot([0, 1], [0, 1], linestyle='--', label='No Skill')\n",
        "# calculate roc curve for model\n",
        "fpr, tpr, _ = roc_curve(y_test, y_test_pred)\n",
        "# plot model roc curve\n",
        "pyplot.plot(fpr, tpr, marker='.', label='1D Convolutional Neural Network')\n",
        "# axis labelsona\n",
        "pyplot.xlabel('False Positive Rate')\n",
        "pyplot.ylabel('True Positive Rate')\n",
        "# show the legend\n",
        "pyplot.legend()\n",
        "# show the plot\n",
        "pyplot.show()"
      ],
      "execution_count": null,
      "outputs": []
    },
    {
      "cell_type": "code",
      "metadata": {
        "id": "6QMLwTabP7j-",
        "colab_type": "code",
        "colab": {}
      },
      "source": [
        ""
      ],
      "execution_count": null,
      "outputs": []
    }
  ]
}